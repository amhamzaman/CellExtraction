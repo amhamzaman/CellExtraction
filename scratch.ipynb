{
 "cells": [
  {
   "cell_type": "code",
   "execution_count": 20,
   "metadata": {},
   "outputs": [
    {
     "name": "stdout",
     "output_type": "stream",
     "text": [
      "1.12.0+cpu\n",
      "0.13.0+cpu\n"
     ]
    }
   ],
   "source": [
    "import torch\n",
    "import torchvision\n",
    "import numpy as np\n",
    "import pandas as pd\n",
    "\n",
    "print(torch.__version__)\n",
    "print(torchvision.__version__)"
   ]
  },
  {
   "cell_type": "code",
   "execution_count": 21,
   "metadata": {},
   "outputs": [],
   "source": [
    "df = pd.read_csv('./stacked/output/cellinfo.csv')\n"
   ]
  },
  {
   "cell_type": "code",
   "execution_count": 22,
   "metadata": {},
   "outputs": [
    {
     "data": {
      "text/html": [
       "<div>\n",
       "<style scoped>\n",
       "    .dataframe tbody tr th:only-of-type {\n",
       "        vertical-align: middle;\n",
       "    }\n",
       "\n",
       "    .dataframe tbody tr th {\n",
       "        vertical-align: top;\n",
       "    }\n",
       "\n",
       "    .dataframe thead th {\n",
       "        text-align: right;\n",
       "    }\n",
       "</style>\n",
       "<table border=\"1\" class=\"dataframe\">\n",
       "  <thead>\n",
       "    <tr style=\"text-align: right;\">\n",
       "      <th></th>\n",
       "      <th>Xmin_abs</th>\n",
       "      <th>Ymin_abs</th>\n",
       "      <th>Xmax_abs</th>\n",
       "      <th>Ymax_abs</th>\n",
       "      <th>Accepted</th>\n",
       "      <th>Frame_Row</th>\n",
       "      <th>Frame_Col</th>\n",
       "      <th>Informative</th>\n",
       "    </tr>\n",
       "  </thead>\n",
       "  <tbody>\n",
       "    <tr>\n",
       "      <th>0</th>\n",
       "      <td>534</td>\n",
       "      <td>67</td>\n",
       "      <td>632</td>\n",
       "      <td>162</td>\n",
       "      <td>1</td>\n",
       "      <td>0</td>\n",
       "      <td>0</td>\n",
       "      <td>1</td>\n",
       "    </tr>\n",
       "    <tr>\n",
       "      <th>1</th>\n",
       "      <td>781</td>\n",
       "      <td>575</td>\n",
       "      <td>881</td>\n",
       "      <td>679</td>\n",
       "      <td>1</td>\n",
       "      <td>0</td>\n",
       "      <td>0</td>\n",
       "      <td>1</td>\n",
       "    </tr>\n",
       "    <tr>\n",
       "      <th>2</th>\n",
       "      <td>917</td>\n",
       "      <td>127</td>\n",
       "      <td>991</td>\n",
       "      <td>204</td>\n",
       "      <td>1</td>\n",
       "      <td>0</td>\n",
       "      <td>0</td>\n",
       "      <td>1</td>\n",
       "    </tr>\n",
       "    <tr>\n",
       "      <th>3</th>\n",
       "      <td>387</td>\n",
       "      <td>687</td>\n",
       "      <td>497</td>\n",
       "      <td>815</td>\n",
       "      <td>1</td>\n",
       "      <td>0</td>\n",
       "      <td>0</td>\n",
       "      <td>1</td>\n",
       "    </tr>\n",
       "    <tr>\n",
       "      <th>7</th>\n",
       "      <td>1163</td>\n",
       "      <td>671</td>\n",
       "      <td>1268</td>\n",
       "      <td>755</td>\n",
       "      <td>1</td>\n",
       "      <td>0</td>\n",
       "      <td>1</td>\n",
       "      <td>1</td>\n",
       "    </tr>\n",
       "  </tbody>\n",
       "</table>\n",
       "</div>"
      ],
      "text/plain": [
       "   Xmin_abs  Ymin_abs  Xmax_abs  Ymax_abs  Accepted  Frame_Row  Frame_Col  \\\n",
       "0       534        67       632       162         1          0          0   \n",
       "1       781       575       881       679         1          0          0   \n",
       "2       917       127       991       204         1          0          0   \n",
       "3       387       687       497       815         1          0          0   \n",
       "7      1163       671      1268       755         1          0          1   \n",
       "\n",
       "   Informative  \n",
       "0            1  \n",
       "1            1  \n",
       "2            1  \n",
       "3            1  \n",
       "7            1  "
      ]
     },
     "execution_count": 22,
     "metadata": {},
     "output_type": "execute_result"
    }
   ],
   "source": [
    "accdf = df.loc[df['Accepted'] == 1][['Xmin_abs', 'Ymin_abs', 'Xmax_abs', 'Ymax_abs', 'Accepted', 'Frame_Row', 'Frame_Col', 'Informative']]\n",
    "#accdf = accdf[['Xmin_abs', 'Ymin_abs', 'Xmax_abs', 'Ymax_abs']]\n",
    "accdf.head()"
   ]
  },
  {
   "cell_type": "code",
   "execution_count": 24,
   "metadata": {},
   "outputs": [
    {
     "name": "stdout",
     "output_type": "stream",
     "text": [
      "781 881 575 679\n"
     ]
    }
   ],
   "source": [
    "x1, y1, x2, y2, accepted, fr, fc, label = accdf.iloc[1]\n",
    "\n",
    "print(x1, x2, y1, y2, accepted)"
   ]
  }
 ],
 "metadata": {
  "kernelspec": {
   "display_name": "Python 3.10.8 64-bit (microsoft store)",
   "language": "python",
   "name": "python3"
  },
  "language_info": {
   "codemirror_mode": {
    "name": "ipython",
    "version": 3
   },
   "file_extension": ".py",
   "mimetype": "text/x-python",
   "name": "python",
   "nbconvert_exporter": "python",
   "pygments_lexer": "ipython3",
   "version": "3.10.8"
  },
  "orig_nbformat": 4,
  "vscode": {
   "interpreter": {
    "hash": "31e60d986000a4d68921bb0b57abbeca0a2f0792130070158638bffc9bda81fd"
   }
  }
 },
 "nbformat": 4,
 "nbformat_minor": 2
}
